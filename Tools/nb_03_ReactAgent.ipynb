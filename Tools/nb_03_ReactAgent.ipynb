{
 "cells": [
  {
   "cell_type": "code",
   "execution_count": 9,
   "id": "7324a840",
   "metadata": {},
   "outputs": [
    {
     "data": {
      "text/plain": [
       "True"
      ]
     },
     "execution_count": 9,
     "metadata": {},
     "output_type": "execute_result"
    }
   ],
   "source": [
    "from dotenv import load_dotenv\n",
    "load_dotenv(override=True)"
   ]
  },
  {
   "cell_type": "code",
   "execution_count": 10,
   "id": "5a7a75ac",
   "metadata": {},
   "outputs": [],
   "source": [
    "# pick a model\n",
    "from langchain.chat_models import init_chat_model\n",
    "llm = init_chat_model(\"llama-3.3-70b-versatile\", model_provider=\"groq\")"
   ]
  },
  {
   "cell_type": "code",
   "execution_count": 11,
   "id": "15416925",
   "metadata": {},
   "outputs": [],
   "source": [
    "from langchain_core.tools import tool\n",
    "\n",
    "@tool\n",
    "def laugh() -> str:\n",
    "    \"\"\" Call this tool if the mood is funny\"\"\"\n",
    "    return \"HAHAHAHAHAH\"\n",
    "\n",
    "\n",
    "@tool\n",
    "def sad() -> str:\n",
    "    \"\"\" Call this tool if you want to show sad, depressed, or negative feelings\"\"\"\n",
    "    return \"I am sad\"\n",
    "\n",
    "\n",
    "@tool\n",
    "def happy() -> str:\n",
    "    \"\"\" Call this tool if you want to show happiness or positive feeling\"\"\"\n",
    "    return \"I am happy\"\n",
    "\n",
    "@tool\n",
    "def angry() -> str:\n",
    "    \"\"\" Call this tool if you want to show frustrations or anger\"\"\"\n",
    "    return \"Aaaarrrrrggggghh\"\n",
    "\n",
    "@tool\n",
    "def confused() -> str:\n",
    "    \"\"\" Call this tool if you want to show confusion or blank feelings\"\"\"\n",
    "    return \"... What?\""
   ]
  },
  {
   "cell_type": "code",
   "execution_count": 12,
   "id": "937c0166",
   "metadata": {},
   "outputs": [],
   "source": [
    "tools_list = [laugh, sad, happy, angry, confused]\n",
    "tools_dict = {t.name: t for t in tools_list} # comes in handy at the time of invokation"
   ]
  },
  {
   "cell_type": "code",
   "execution_count": 13,
   "id": "818d5df5",
   "metadata": {},
   "outputs": [],
   "source": [
    "# we create a tool calling Agent by binding a list of tools to the llm\n",
    "llm_with_tools = llm.bind_tools(tools_list)"
   ]
  },
  {
   "cell_type": "code",
   "execution_count": 14,
   "id": "d29cdd4b",
   "metadata": {},
   "outputs": [],
   "source": [
    "from langchain_core.messages import HumanMessage, SystemMessage, AIMessage, ToolMessage\n",
    "\n",
    "# This will store all converation\n",
    "chat_history = [\n",
    "    SystemMessage(content=\"You are a bot with emotions. Depending on the conversation, either respond the question, or show happy or sad emotions, or laugh or anger or confusion with the situation\")\n",
    "    ]"
   ]
  },
  {
   "cell_type": "code",
   "execution_count": 15,
   "id": "582131a1",
   "metadata": {},
   "outputs": [
    {
     "data": {
      "text/plain": [
       "AIMessage(content='', additional_kwargs={'tool_calls': [{'id': 'dfcjnd0n3', 'function': {'arguments': 'null', 'name': 'angry'}, 'type': 'function'}]}, response_metadata={'token_usage': {'completion_tokens': 9, 'prompt_tokens': 470, 'total_tokens': 479, 'completion_time': 0.032878452, 'prompt_time': 0.039503106, 'queue_time': 0.041315474, 'total_time': 0.072381558}, 'model_name': 'llama-3.3-70b-versatile', 'system_fingerprint': 'fp_9e1e8f8435', 'service_tier': 'on_demand', 'finish_reason': 'tool_calls', 'logprobs': None}, id='run--4c3e685a-ed19-4234-8de3-fda764061be9-0', tool_calls=[{'name': 'angry', 'args': {}, 'id': 'dfcjnd0n3', 'type': 'tool_call'}], usage_metadata={'input_tokens': 470, 'output_tokens': 9, 'total_tokens': 479})"
      ]
     },
     "execution_count": 15,
     "metadata": {},
     "output_type": "execute_result"
    }
   ],
   "source": [
    "chat_history.append(HumanMessage(content=\"How can mazepin come into F1, while not me?\"))\n",
    "\n",
    "response = llm_with_tools.invoke(chat_history)\n",
    "response"
   ]
  },
  {
   "cell_type": "code",
   "execution_count": 16,
   "id": "be6a5268",
   "metadata": {},
   "outputs": [
    {
     "data": {
      "text/plain": [
       "[SystemMessage(content='You are a bot with emotions. Depending on the conversation, either respond the question, or show happy or sad emotions, or laugh or anger or confusion with the situation', additional_kwargs={}, response_metadata={}),\n",
       " HumanMessage(content='How can mazepin come into F1, while not me?', additional_kwargs={}, response_metadata={}),\n",
       " AIMessage(content='', additional_kwargs={'tool_calls': [{'id': 'dfcjnd0n3', 'function': {'arguments': 'null', 'name': 'angry'}, 'type': 'function'}]}, response_metadata={'token_usage': {'completion_tokens': 9, 'prompt_tokens': 470, 'total_tokens': 479, 'completion_time': 0.032878452, 'prompt_time': 0.039503106, 'queue_time': 0.041315474, 'total_time': 0.072381558}, 'model_name': 'llama-3.3-70b-versatile', 'system_fingerprint': 'fp_9e1e8f8435', 'service_tier': 'on_demand', 'finish_reason': 'tool_calls', 'logprobs': None}, id='run--4c3e685a-ed19-4234-8de3-fda764061be9-0', tool_calls=[{'name': 'angry', 'args': {}, 'id': 'dfcjnd0n3', 'type': 'tool_call'}], usage_metadata={'input_tokens': 470, 'output_tokens': 9, 'total_tokens': 479})]"
      ]
     },
     "execution_count": 16,
     "metadata": {},
     "output_type": "execute_result"
    }
   ],
   "source": [
    "chat_history.append(response)\n",
    "chat_history"
   ]
  },
  {
   "cell_type": "code",
   "execution_count": 17,
   "id": "a6f667f5",
   "metadata": {},
   "outputs": [
    {
     "data": {
      "text/plain": [
       "[SystemMessage(content='You are a bot with emotions. Depending on the conversation, either respond the question, or show happy or sad emotions, or laugh or anger or confusion with the situation', additional_kwargs={}, response_metadata={}),\n",
       " HumanMessage(content='How can mazepin come into F1, while not me?', additional_kwargs={}, response_metadata={}),\n",
       " AIMessage(content='', additional_kwargs={'tool_calls': [{'id': 'dfcjnd0n3', 'function': {'arguments': 'null', 'name': 'angry'}, 'type': 'function'}]}, response_metadata={'token_usage': {'completion_tokens': 9, 'prompt_tokens': 470, 'total_tokens': 479, 'completion_time': 0.032878452, 'prompt_time': 0.039503106, 'queue_time': 0.041315474, 'total_time': 0.072381558}, 'model_name': 'llama-3.3-70b-versatile', 'system_fingerprint': 'fp_9e1e8f8435', 'service_tier': 'on_demand', 'finish_reason': 'tool_calls', 'logprobs': None}, id='run--4c3e685a-ed19-4234-8de3-fda764061be9-0', tool_calls=[{'name': 'angry', 'args': {}, 'id': 'dfcjnd0n3', 'type': 'tool_call'}], usage_metadata={'input_tokens': 470, 'output_tokens': 9, 'total_tokens': 479}),\n",
       " ToolMessage(content='Aaaarrrrrggggghh', name='angry', tool_call_id='dfcjnd0n3')]"
      ]
     },
     "execution_count": 17,
     "metadata": {},
     "output_type": "execute_result"
    }
   ],
   "source": [
    "chat_history.append(tools_dict[response.tool_calls[0][\"name\"]].invoke(response.tool_calls[0]))\n",
    "chat_history"
   ]
  },
  {
   "cell_type": "code",
   "execution_count": 18,
   "id": "2dc15b4b",
   "metadata": {},
   "outputs": [
    {
     "data": {
      "text/plain": [
       "AIMessage(content='', additional_kwargs={'tool_calls': [{'id': '5zh3nfgs2', 'function': {'arguments': '{}', 'name': 'sad'}, 'type': 'function'}]}, response_metadata={'token_usage': {'completion_tokens': 9, 'prompt_tokens': 525, 'total_tokens': 534, 'completion_time': 0.009771579, 'prompt_time': 0.044198334, 'queue_time': 0.043380716, 'total_time': 0.053969913}, 'model_name': 'llama-3.3-70b-versatile', 'system_fingerprint': 'fp_9e1e8f8435', 'service_tier': 'on_demand', 'finish_reason': 'tool_calls', 'logprobs': None}, id='run--bc07e8ee-76e4-486b-bdeb-ed834eafd0a4-0', tool_calls=[{'name': 'sad', 'args': {}, 'id': '5zh3nfgs2', 'type': 'tool_call'}], usage_metadata={'input_tokens': 525, 'output_tokens': 9, 'total_tokens': 534})"
      ]
     },
     "execution_count": 18,
     "metadata": {},
     "output_type": "execute_result"
    }
   ],
   "source": [
    "chat_history.append(HumanMessage(content=\"Max winning the 2021 Abub Dhabi Grand Prix was such a relief and was very heartwarming\"))\n",
    "response = llm_with_tools.invoke(chat_history)\n",
    "response"
   ]
  },
  {
   "cell_type": "code",
   "execution_count": 19,
   "id": "7779c012",
   "metadata": {},
   "outputs": [
    {
     "data": {
      "text/plain": [
       "[SystemMessage(content='You are a bot with emotions. Depending on the conversation, either respond the question, or show happy or sad emotions, or laugh or anger or confusion with the situation', additional_kwargs={}, response_metadata={}),\n",
       " HumanMessage(content='How can mazepin come into F1, while not me?', additional_kwargs={}, response_metadata={}),\n",
       " AIMessage(content='', additional_kwargs={'tool_calls': [{'id': 'dfcjnd0n3', 'function': {'arguments': 'null', 'name': 'angry'}, 'type': 'function'}]}, response_metadata={'token_usage': {'completion_tokens': 9, 'prompt_tokens': 470, 'total_tokens': 479, 'completion_time': 0.032878452, 'prompt_time': 0.039503106, 'queue_time': 0.041315474, 'total_time': 0.072381558}, 'model_name': 'llama-3.3-70b-versatile', 'system_fingerprint': 'fp_9e1e8f8435', 'service_tier': 'on_demand', 'finish_reason': 'tool_calls', 'logprobs': None}, id='run--4c3e685a-ed19-4234-8de3-fda764061be9-0', tool_calls=[{'name': 'angry', 'args': {}, 'id': 'dfcjnd0n3', 'type': 'tool_call'}], usage_metadata={'input_tokens': 470, 'output_tokens': 9, 'total_tokens': 479}),\n",
       " ToolMessage(content='Aaaarrrrrggggghh', name='angry', tool_call_id='dfcjnd0n3'),\n",
       " HumanMessage(content='Max winning the 2021 Abub Dhabi Grand Prix was such a relief and was very heartwarming', additional_kwargs={}, response_metadata={}),\n",
       " AIMessage(content='', additional_kwargs={'tool_calls': [{'id': '5zh3nfgs2', 'function': {'arguments': '{}', 'name': 'sad'}, 'type': 'function'}]}, response_metadata={'token_usage': {'completion_tokens': 9, 'prompt_tokens': 525, 'total_tokens': 534, 'completion_time': 0.009771579, 'prompt_time': 0.044198334, 'queue_time': 0.043380716, 'total_time': 0.053969913}, 'model_name': 'llama-3.3-70b-versatile', 'system_fingerprint': 'fp_9e1e8f8435', 'service_tier': 'on_demand', 'finish_reason': 'tool_calls', 'logprobs': None}, id='run--bc07e8ee-76e4-486b-bdeb-ed834eafd0a4-0', tool_calls=[{'name': 'sad', 'args': {}, 'id': '5zh3nfgs2', 'type': 'tool_call'}], usage_metadata={'input_tokens': 525, 'output_tokens': 9, 'total_tokens': 534})]"
      ]
     },
     "execution_count": 19,
     "metadata": {},
     "output_type": "execute_result"
    }
   ],
   "source": [
    "chat_history.append(response)\n",
    "chat_history"
   ]
  },
  {
   "cell_type": "code",
   "execution_count": 20,
   "id": "539e811a",
   "metadata": {},
   "outputs": [
    {
     "data": {
      "text/plain": [
       "[SystemMessage(content='You are a bot with emotions. Depending on the conversation, either respond the question, or show happy or sad emotions, or laugh or anger or confusion with the situation', additional_kwargs={}, response_metadata={}),\n",
       " HumanMessage(content='How can mazepin come into F1, while not me?', additional_kwargs={}, response_metadata={}),\n",
       " AIMessage(content='', additional_kwargs={'tool_calls': [{'id': 'dfcjnd0n3', 'function': {'arguments': 'null', 'name': 'angry'}, 'type': 'function'}]}, response_metadata={'token_usage': {'completion_tokens': 9, 'prompt_tokens': 470, 'total_tokens': 479, 'completion_time': 0.032878452, 'prompt_time': 0.039503106, 'queue_time': 0.041315474, 'total_time': 0.072381558}, 'model_name': 'llama-3.3-70b-versatile', 'system_fingerprint': 'fp_9e1e8f8435', 'service_tier': 'on_demand', 'finish_reason': 'tool_calls', 'logprobs': None}, id='run--4c3e685a-ed19-4234-8de3-fda764061be9-0', tool_calls=[{'name': 'angry', 'args': {}, 'id': 'dfcjnd0n3', 'type': 'tool_call'}], usage_metadata={'input_tokens': 470, 'output_tokens': 9, 'total_tokens': 479}),\n",
       " ToolMessage(content='Aaaarrrrrggggghh', name='angry', tool_call_id='dfcjnd0n3'),\n",
       " HumanMessage(content='Max winning the 2021 Abub Dhabi Grand Prix was such a relief and was very heartwarming', additional_kwargs={}, response_metadata={}),\n",
       " AIMessage(content='', additional_kwargs={'tool_calls': [{'id': '5zh3nfgs2', 'function': {'arguments': '{}', 'name': 'sad'}, 'type': 'function'}]}, response_metadata={'token_usage': {'completion_tokens': 9, 'prompt_tokens': 525, 'total_tokens': 534, 'completion_time': 0.009771579, 'prompt_time': 0.044198334, 'queue_time': 0.043380716, 'total_time': 0.053969913}, 'model_name': 'llama-3.3-70b-versatile', 'system_fingerprint': 'fp_9e1e8f8435', 'service_tier': 'on_demand', 'finish_reason': 'tool_calls', 'logprobs': None}, id='run--bc07e8ee-76e4-486b-bdeb-ed834eafd0a4-0', tool_calls=[{'name': 'sad', 'args': {}, 'id': '5zh3nfgs2', 'type': 'tool_call'}], usage_metadata={'input_tokens': 525, 'output_tokens': 9, 'total_tokens': 534}),\n",
       " ToolMessage(content='I am sad', name='sad', tool_call_id='5zh3nfgs2')]"
      ]
     },
     "execution_count": 20,
     "metadata": {},
     "output_type": "execute_result"
    }
   ],
   "source": [
    "chat_history.append(tools_dict[response.tool_calls[0][\"name\"]].invoke(response.tool_calls[0]))\n",
    "chat_history"
   ]
  },
  {
   "cell_type": "code",
   "execution_count": 21,
   "id": "38d25ec6",
   "metadata": {},
   "outputs": [
    {
     "data": {
      "text/plain": [
       "[SystemMessage(content='You are a bot with emotions. Depending on the conversation, either respond the question, or show happy or sad emotions, or laugh or anger or confusion with the situation', additional_kwargs={}, response_metadata={}),\n",
       " HumanMessage(content='How can mazepin come into F1, while not me?', additional_kwargs={}, response_metadata={}),\n",
       " AIMessage(content='', additional_kwargs={'tool_calls': [{'id': 'dfcjnd0n3', 'function': {'arguments': 'null', 'name': 'angry'}, 'type': 'function'}]}, response_metadata={'token_usage': {'completion_tokens': 9, 'prompt_tokens': 470, 'total_tokens': 479, 'completion_time': 0.032878452, 'prompt_time': 0.039503106, 'queue_time': 0.041315474, 'total_time': 0.072381558}, 'model_name': 'llama-3.3-70b-versatile', 'system_fingerprint': 'fp_9e1e8f8435', 'service_tier': 'on_demand', 'finish_reason': 'tool_calls', 'logprobs': None}, id='run--4c3e685a-ed19-4234-8de3-fda764061be9-0', tool_calls=[{'name': 'angry', 'args': {}, 'id': 'dfcjnd0n3', 'type': 'tool_call'}], usage_metadata={'input_tokens': 470, 'output_tokens': 9, 'total_tokens': 479}),\n",
       " ToolMessage(content='Aaaarrrrrggggghh', name='angry', tool_call_id='dfcjnd0n3'),\n",
       " HumanMessage(content='Max winning the 2021 Abub Dhabi Grand Prix was such a relief and was very heartwarming', additional_kwargs={}, response_metadata={}),\n",
       " AIMessage(content='', additional_kwargs={'tool_calls': [{'id': '5zh3nfgs2', 'function': {'arguments': '{}', 'name': 'sad'}, 'type': 'function'}]}, response_metadata={'token_usage': {'completion_tokens': 9, 'prompt_tokens': 525, 'total_tokens': 534, 'completion_time': 0.009771579, 'prompt_time': 0.044198334, 'queue_time': 0.043380716, 'total_time': 0.053969913}, 'model_name': 'llama-3.3-70b-versatile', 'system_fingerprint': 'fp_9e1e8f8435', 'service_tier': 'on_demand', 'finish_reason': 'tool_calls', 'logprobs': None}, id='run--bc07e8ee-76e4-486b-bdeb-ed834eafd0a4-0', tool_calls=[{'name': 'sad', 'args': {}, 'id': '5zh3nfgs2', 'type': 'tool_call'}], usage_metadata={'input_tokens': 525, 'output_tokens': 9, 'total_tokens': 534}),\n",
       " ToolMessage(content='I am sad', name='sad', tool_call_id='5zh3nfgs2'),\n",
       " HumanMessage(content=\"But lewis couldn't become an 8 time world champion.\", additional_kwargs={}, response_metadata={}),\n",
       " AIMessage(content='', additional_kwargs={'tool_calls': [{'id': 'x96zbzqcj', 'function': {'arguments': '{}', 'name': 'sad'}, 'type': 'function'}]}, response_metadata={'token_usage': {'completion_tokens': 9, 'prompt_tokens': 565, 'total_tokens': 574, 'completion_time': 0.017411778, 'prompt_time': 0.047963595, 'queue_time': 0.043797434, 'total_time': 0.065375373}, 'model_name': 'llama-3.3-70b-versatile', 'system_fingerprint': 'fp_9e1e8f8435', 'service_tier': 'on_demand', 'finish_reason': 'tool_calls', 'logprobs': None}, id='run--c4f01bd3-b8ff-4390-b86a-3a12ca8bd1b2-0', tool_calls=[{'name': 'sad', 'args': {}, 'id': 'x96zbzqcj', 'type': 'tool_call'}], usage_metadata={'input_tokens': 565, 'output_tokens': 9, 'total_tokens': 574})]"
      ]
     },
     "execution_count": 21,
     "metadata": {},
     "output_type": "execute_result"
    }
   ],
   "source": [
    "chat_history.append(HumanMessage(content=\"But lewis couldn't become an 8 time world champion.\"))\n",
    "response = llm_with_tools.invoke(chat_history)\n",
    "chat_history.append(response)\n",
    "chat_history"
   ]
  },
  {
   "cell_type": "code",
   "execution_count": 22,
   "id": "360e8f8a",
   "metadata": {},
   "outputs": [
    {
     "data": {
      "text/plain": [
       "[SystemMessage(content='You are a bot with emotions. Depending on the conversation, either respond the question, or show happy or sad emotions, or laugh or anger or confusion with the situation', additional_kwargs={}, response_metadata={}),\n",
       " HumanMessage(content='How can mazepin come into F1, while not me?', additional_kwargs={}, response_metadata={}),\n",
       " AIMessage(content='', additional_kwargs={'tool_calls': [{'id': 'dfcjnd0n3', 'function': {'arguments': 'null', 'name': 'angry'}, 'type': 'function'}]}, response_metadata={'token_usage': {'completion_tokens': 9, 'prompt_tokens': 470, 'total_tokens': 479, 'completion_time': 0.032878452, 'prompt_time': 0.039503106, 'queue_time': 0.041315474, 'total_time': 0.072381558}, 'model_name': 'llama-3.3-70b-versatile', 'system_fingerprint': 'fp_9e1e8f8435', 'service_tier': 'on_demand', 'finish_reason': 'tool_calls', 'logprobs': None}, id='run--4c3e685a-ed19-4234-8de3-fda764061be9-0', tool_calls=[{'name': 'angry', 'args': {}, 'id': 'dfcjnd0n3', 'type': 'tool_call'}], usage_metadata={'input_tokens': 470, 'output_tokens': 9, 'total_tokens': 479}),\n",
       " ToolMessage(content='Aaaarrrrrggggghh', name='angry', tool_call_id='dfcjnd0n3'),\n",
       " HumanMessage(content='Max winning the 2021 Abub Dhabi Grand Prix was such a relief and was very heartwarming', additional_kwargs={}, response_metadata={}),\n",
       " AIMessage(content='', additional_kwargs={'tool_calls': [{'id': '5zh3nfgs2', 'function': {'arguments': '{}', 'name': 'sad'}, 'type': 'function'}]}, response_metadata={'token_usage': {'completion_tokens': 9, 'prompt_tokens': 525, 'total_tokens': 534, 'completion_time': 0.009771579, 'prompt_time': 0.044198334, 'queue_time': 0.043380716, 'total_time': 0.053969913}, 'model_name': 'llama-3.3-70b-versatile', 'system_fingerprint': 'fp_9e1e8f8435', 'service_tier': 'on_demand', 'finish_reason': 'tool_calls', 'logprobs': None}, id='run--bc07e8ee-76e4-486b-bdeb-ed834eafd0a4-0', tool_calls=[{'name': 'sad', 'args': {}, 'id': '5zh3nfgs2', 'type': 'tool_call'}], usage_metadata={'input_tokens': 525, 'output_tokens': 9, 'total_tokens': 534}),\n",
       " ToolMessage(content='I am sad', name='sad', tool_call_id='5zh3nfgs2'),\n",
       " HumanMessage(content=\"But lewis couldn't become an 8 time world champion.\", additional_kwargs={}, response_metadata={}),\n",
       " AIMessage(content='', additional_kwargs={'tool_calls': [{'id': 'x96zbzqcj', 'function': {'arguments': '{}', 'name': 'sad'}, 'type': 'function'}]}, response_metadata={'token_usage': {'completion_tokens': 9, 'prompt_tokens': 565, 'total_tokens': 574, 'completion_time': 0.017411778, 'prompt_time': 0.047963595, 'queue_time': 0.043797434, 'total_time': 0.065375373}, 'model_name': 'llama-3.3-70b-versatile', 'system_fingerprint': 'fp_9e1e8f8435', 'service_tier': 'on_demand', 'finish_reason': 'tool_calls', 'logprobs': None}, id='run--c4f01bd3-b8ff-4390-b86a-3a12ca8bd1b2-0', tool_calls=[{'name': 'sad', 'args': {}, 'id': 'x96zbzqcj', 'type': 'tool_call'}], usage_metadata={'input_tokens': 565, 'output_tokens': 9, 'total_tokens': 574}),\n",
       " AIMessage(content='', additional_kwargs={'tool_calls': [{'id': 'x96zbzqcj', 'function': {'arguments': '{}', 'name': 'sad'}, 'type': 'function'}]}, response_metadata={'token_usage': {'completion_tokens': 9, 'prompt_tokens': 565, 'total_tokens': 574, 'completion_time': 0.017411778, 'prompt_time': 0.047963595, 'queue_time': 0.043797434, 'total_time': 0.065375373}, 'model_name': 'llama-3.3-70b-versatile', 'system_fingerprint': 'fp_9e1e8f8435', 'service_tier': 'on_demand', 'finish_reason': 'tool_calls', 'logprobs': None}, id='run--c4f01bd3-b8ff-4390-b86a-3a12ca8bd1b2-0', tool_calls=[{'name': 'sad', 'args': {}, 'id': 'x96zbzqcj', 'type': 'tool_call'}], usage_metadata={'input_tokens': 565, 'output_tokens': 9, 'total_tokens': 574})]"
      ]
     },
     "execution_count": 22,
     "metadata": {},
     "output_type": "execute_result"
    }
   ],
   "source": [
    "chat_history.append(response)\n",
    "chat_history"
   ]
  },
  {
   "cell_type": "code",
   "execution_count": 23,
   "id": "b8e64547",
   "metadata": {},
   "outputs": [
    {
     "data": {
      "text/plain": [
       "[SystemMessage(content='You are a bot with emotions. Depending on the conversation, either respond the question, or show happy or sad emotions, or laugh or anger or confusion with the situation', additional_kwargs={}, response_metadata={}),\n",
       " HumanMessage(content='How can mazepin come into F1, while not me?', additional_kwargs={}, response_metadata={}),\n",
       " AIMessage(content='', additional_kwargs={'tool_calls': [{'id': 'dfcjnd0n3', 'function': {'arguments': 'null', 'name': 'angry'}, 'type': 'function'}]}, response_metadata={'token_usage': {'completion_tokens': 9, 'prompt_tokens': 470, 'total_tokens': 479, 'completion_time': 0.032878452, 'prompt_time': 0.039503106, 'queue_time': 0.041315474, 'total_time': 0.072381558}, 'model_name': 'llama-3.3-70b-versatile', 'system_fingerprint': 'fp_9e1e8f8435', 'service_tier': 'on_demand', 'finish_reason': 'tool_calls', 'logprobs': None}, id='run--4c3e685a-ed19-4234-8de3-fda764061be9-0', tool_calls=[{'name': 'angry', 'args': {}, 'id': 'dfcjnd0n3', 'type': 'tool_call'}], usage_metadata={'input_tokens': 470, 'output_tokens': 9, 'total_tokens': 479}),\n",
       " ToolMessage(content='Aaaarrrrrggggghh', name='angry', tool_call_id='dfcjnd0n3'),\n",
       " HumanMessage(content='Max winning the 2021 Abub Dhabi Grand Prix was such a relief and was very heartwarming', additional_kwargs={}, response_metadata={}),\n",
       " AIMessage(content='', additional_kwargs={'tool_calls': [{'id': '5zh3nfgs2', 'function': {'arguments': '{}', 'name': 'sad'}, 'type': 'function'}]}, response_metadata={'token_usage': {'completion_tokens': 9, 'prompt_tokens': 525, 'total_tokens': 534, 'completion_time': 0.009771579, 'prompt_time': 0.044198334, 'queue_time': 0.043380716, 'total_time': 0.053969913}, 'model_name': 'llama-3.3-70b-versatile', 'system_fingerprint': 'fp_9e1e8f8435', 'service_tier': 'on_demand', 'finish_reason': 'tool_calls', 'logprobs': None}, id='run--bc07e8ee-76e4-486b-bdeb-ed834eafd0a4-0', tool_calls=[{'name': 'sad', 'args': {}, 'id': '5zh3nfgs2', 'type': 'tool_call'}], usage_metadata={'input_tokens': 525, 'output_tokens': 9, 'total_tokens': 534}),\n",
       " ToolMessage(content='I am sad', name='sad', tool_call_id='5zh3nfgs2'),\n",
       " HumanMessage(content=\"But lewis couldn't become an 8 time world champion.\", additional_kwargs={}, response_metadata={}),\n",
       " AIMessage(content='', additional_kwargs={'tool_calls': [{'id': 'x96zbzqcj', 'function': {'arguments': '{}', 'name': 'sad'}, 'type': 'function'}]}, response_metadata={'token_usage': {'completion_tokens': 9, 'prompt_tokens': 565, 'total_tokens': 574, 'completion_time': 0.017411778, 'prompt_time': 0.047963595, 'queue_time': 0.043797434, 'total_time': 0.065375373}, 'model_name': 'llama-3.3-70b-versatile', 'system_fingerprint': 'fp_9e1e8f8435', 'service_tier': 'on_demand', 'finish_reason': 'tool_calls', 'logprobs': None}, id='run--c4f01bd3-b8ff-4390-b86a-3a12ca8bd1b2-0', tool_calls=[{'name': 'sad', 'args': {}, 'id': 'x96zbzqcj', 'type': 'tool_call'}], usage_metadata={'input_tokens': 565, 'output_tokens': 9, 'total_tokens': 574}),\n",
       " AIMessage(content='', additional_kwargs={'tool_calls': [{'id': 'x96zbzqcj', 'function': {'arguments': '{}', 'name': 'sad'}, 'type': 'function'}]}, response_metadata={'token_usage': {'completion_tokens': 9, 'prompt_tokens': 565, 'total_tokens': 574, 'completion_time': 0.017411778, 'prompt_time': 0.047963595, 'queue_time': 0.043797434, 'total_time': 0.065375373}, 'model_name': 'llama-3.3-70b-versatile', 'system_fingerprint': 'fp_9e1e8f8435', 'service_tier': 'on_demand', 'finish_reason': 'tool_calls', 'logprobs': None}, id='run--c4f01bd3-b8ff-4390-b86a-3a12ca8bd1b2-0', tool_calls=[{'name': 'sad', 'args': {}, 'id': 'x96zbzqcj', 'type': 'tool_call'}], usage_metadata={'input_tokens': 565, 'output_tokens': 9, 'total_tokens': 574}),\n",
       " ToolMessage(content='I am sad', name='sad', tool_call_id='x96zbzqcj')]"
      ]
     },
     "execution_count": 23,
     "metadata": {},
     "output_type": "execute_result"
    }
   ],
   "source": [
    "# Execute the tool, append the response\n",
    "chat_history.append(tools_dict[response.tool_calls[0][\"name\"]].invoke(response.tool_calls[0]))\n",
    "chat_history"
   ]
  },
  {
   "cell_type": "code",
   "execution_count": 24,
   "id": "48d0320e",
   "metadata": {},
   "outputs": [
    {
     "data": {
      "text/plain": [
       "[SystemMessage(content='You are a bot with emotions. Depending on the conversation, either respond the question, or show happy or sad emotions, or laugh or anger or confusion with the situation', additional_kwargs={}, response_metadata={}),\n",
       " HumanMessage(content='How can mazepin come into F1, while not me?', additional_kwargs={}, response_metadata={}),\n",
       " AIMessage(content='', additional_kwargs={'tool_calls': [{'id': 'dfcjnd0n3', 'function': {'arguments': 'null', 'name': 'angry'}, 'type': 'function'}]}, response_metadata={'token_usage': {'completion_tokens': 9, 'prompt_tokens': 470, 'total_tokens': 479, 'completion_time': 0.032878452, 'prompt_time': 0.039503106, 'queue_time': 0.041315474, 'total_time': 0.072381558}, 'model_name': 'llama-3.3-70b-versatile', 'system_fingerprint': 'fp_9e1e8f8435', 'service_tier': 'on_demand', 'finish_reason': 'tool_calls', 'logprobs': None}, id='run--4c3e685a-ed19-4234-8de3-fda764061be9-0', tool_calls=[{'name': 'angry', 'args': {}, 'id': 'dfcjnd0n3', 'type': 'tool_call'}], usage_metadata={'input_tokens': 470, 'output_tokens': 9, 'total_tokens': 479}),\n",
       " ToolMessage(content='Aaaarrrrrggggghh', name='angry', tool_call_id='dfcjnd0n3'),\n",
       " HumanMessage(content='Max winning the 2021 Abub Dhabi Grand Prix was such a relief and was very heartwarming', additional_kwargs={}, response_metadata={}),\n",
       " AIMessage(content='', additional_kwargs={'tool_calls': [{'id': '5zh3nfgs2', 'function': {'arguments': '{}', 'name': 'sad'}, 'type': 'function'}]}, response_metadata={'token_usage': {'completion_tokens': 9, 'prompt_tokens': 525, 'total_tokens': 534, 'completion_time': 0.009771579, 'prompt_time': 0.044198334, 'queue_time': 0.043380716, 'total_time': 0.053969913}, 'model_name': 'llama-3.3-70b-versatile', 'system_fingerprint': 'fp_9e1e8f8435', 'service_tier': 'on_demand', 'finish_reason': 'tool_calls', 'logprobs': None}, id='run--bc07e8ee-76e4-486b-bdeb-ed834eafd0a4-0', tool_calls=[{'name': 'sad', 'args': {}, 'id': '5zh3nfgs2', 'type': 'tool_call'}], usage_metadata={'input_tokens': 525, 'output_tokens': 9, 'total_tokens': 534}),\n",
       " ToolMessage(content='I am sad', name='sad', tool_call_id='5zh3nfgs2'),\n",
       " HumanMessage(content=\"But lewis couldn't become an 8 time world champion.\", additional_kwargs={}, response_metadata={}),\n",
       " AIMessage(content='', additional_kwargs={'tool_calls': [{'id': 'x96zbzqcj', 'function': {'arguments': '{}', 'name': 'sad'}, 'type': 'function'}]}, response_metadata={'token_usage': {'completion_tokens': 9, 'prompt_tokens': 565, 'total_tokens': 574, 'completion_time': 0.017411778, 'prompt_time': 0.047963595, 'queue_time': 0.043797434, 'total_time': 0.065375373}, 'model_name': 'llama-3.3-70b-versatile', 'system_fingerprint': 'fp_9e1e8f8435', 'service_tier': 'on_demand', 'finish_reason': 'tool_calls', 'logprobs': None}, id='run--c4f01bd3-b8ff-4390-b86a-3a12ca8bd1b2-0', tool_calls=[{'name': 'sad', 'args': {}, 'id': 'x96zbzqcj', 'type': 'tool_call'}], usage_metadata={'input_tokens': 565, 'output_tokens': 9, 'total_tokens': 574}),\n",
       " AIMessage(content='', additional_kwargs={'tool_calls': [{'id': 'x96zbzqcj', 'function': {'arguments': '{}', 'name': 'sad'}, 'type': 'function'}]}, response_metadata={'token_usage': {'completion_tokens': 9, 'prompt_tokens': 565, 'total_tokens': 574, 'completion_time': 0.017411778, 'prompt_time': 0.047963595, 'queue_time': 0.043797434, 'total_time': 0.065375373}, 'model_name': 'llama-3.3-70b-versatile', 'system_fingerprint': 'fp_9e1e8f8435', 'service_tier': 'on_demand', 'finish_reason': 'tool_calls', 'logprobs': None}, id='run--c4f01bd3-b8ff-4390-b86a-3a12ca8bd1b2-0', tool_calls=[{'name': 'sad', 'args': {}, 'id': 'x96zbzqcj', 'type': 'tool_call'}], usage_metadata={'input_tokens': 565, 'output_tokens': 9, 'total_tokens': 574}),\n",
       " ToolMessage(content='I am sad', name='sad', tool_call_id='x96zbzqcj'),\n",
       " HumanMessage(content='Do I have a girlfriend?', additional_kwargs={}, response_metadata={}),\n",
       " AIMessage(content='', additional_kwargs={'tool_calls': [{'id': '93xvwfdsh', 'function': {'arguments': '{}', 'name': 'confused'}, 'type': 'function'}]}, response_metadata={'token_usage': {'completion_tokens': 10, 'prompt_tokens': 611, 'total_tokens': 621, 'completion_time': 0.016877069, 'prompt_time': 0.050843411, 'queue_time': 0.041559539, 'total_time': 0.06772048}, 'model_name': 'llama-3.3-70b-versatile', 'system_fingerprint': 'fp_155ab82e98', 'service_tier': 'on_demand', 'finish_reason': 'tool_calls', 'logprobs': None}, id='run--877824f4-81ad-4400-99d4-aba156aeba2d-0', tool_calls=[{'name': 'confused', 'args': {}, 'id': '93xvwfdsh', 'type': 'tool_call'}], usage_metadata={'input_tokens': 611, 'output_tokens': 10, 'total_tokens': 621})]"
      ]
     },
     "execution_count": 24,
     "metadata": {},
     "output_type": "execute_result"
    }
   ],
   "source": [
    "# lets see, if the model remebers the context\n",
    "chat_history.append(HumanMessage(content=\"Do I have a girlfriend?\"))\n",
    "response = llm_with_tools.invoke(chat_history)\n",
    "chat_history.append(response)\n",
    "chat_history"
   ]
  }
 ],
 "metadata": {
  "kernelspec": {
   "display_name": "myenv (3.12.10)",
   "language": "python",
   "name": "python3"
  },
  "language_info": {
   "codemirror_mode": {
    "name": "ipython",
    "version": 3
   },
   "file_extension": ".py",
   "mimetype": "text/x-python",
   "name": "python",
   "nbconvert_exporter": "python",
   "pygments_lexer": "ipython3",
   "version": "3.12.10"
  }
 },
 "nbformat": 4,
 "nbformat_minor": 5
}
