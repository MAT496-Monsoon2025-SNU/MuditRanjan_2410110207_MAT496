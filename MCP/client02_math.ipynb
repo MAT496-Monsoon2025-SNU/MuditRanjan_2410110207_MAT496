{
 "cells": [
  {
   "cell_type": "code",
   "execution_count": 3,
   "id": "5324236a",
   "metadata": {},
   "outputs": [
    {
     "ename": "ModuleNotFoundError",
     "evalue": "No module named 'langgraph'",
     "output_type": "error",
     "traceback": [
      "\u001b[31m---------------------------------------------------------------------------\u001b[39m",
      "\u001b[31mModuleNotFoundError\u001b[39m                       Traceback (most recent call last)",
      "\u001b[36mCell\u001b[39m\u001b[36m \u001b[39m\u001b[32mIn[3]\u001b[39m\u001b[32m, line 6\u001b[39m\n\u001b[32m      4\u001b[39m \u001b[38;5;28;01mfrom\u001b[39;00m\u001b[38;5;250m \u001b[39m\u001b[34;01mmcp\u001b[39;00m\u001b[34;01m.\u001b[39;00m\u001b[34;01mclient\u001b[39;00m\u001b[34;01m.\u001b[39;00m\u001b[34;01mstdio\u001b[39;00m\u001b[38;5;250m \u001b[39m\u001b[38;5;28;01mimport\u001b[39;00m stdio_client\n\u001b[32m      5\u001b[39m \u001b[38;5;28;01mfrom\u001b[39;00m\u001b[38;5;250m \u001b[39m\u001b[34;01mlangchain_mcp_adapters\u001b[39;00m\u001b[34;01m.\u001b[39;00m\u001b[34;01mtools\u001b[39;00m\u001b[38;5;250m \u001b[39m\u001b[38;5;28;01mimport\u001b[39;00m load_mcp_tools\n\u001b[32m----> \u001b[39m\u001b[32m6\u001b[39m \u001b[38;5;28;01mfrom\u001b[39;00m\u001b[38;5;250m \u001b[39m\u001b[34;01mlanggraph\u001b[39;00m\u001b[34;01m.\u001b[39;00m\u001b[34;01mprebuilt\u001b[39;00m\u001b[38;5;250m \u001b[39m\u001b[38;5;28;01mimport\u001b[39;00m create_react_agent\n\u001b[32m      8\u001b[39m \u001b[38;5;28;01masync\u001b[39;00m \u001b[38;5;28;01mdef\u001b[39;00m\u001b[38;5;250m \u001b[39m\u001b[34mrun_mcp_math\u001b[39m(chat_history=\u001b[38;5;28;01mNone\u001b[39;00m):\n\u001b[32m      9\u001b[39m     server_params = StdioServerParameters(\n\u001b[32m     10\u001b[39m         command=sys.executable,\n\u001b[32m     11\u001b[39m         args=[\u001b[33m\"\u001b[39m\u001b[33mC:\u001b[39m\u001b[38;5;130;01m\\\\\u001b[39;00m\u001b[33mUsers\u001b[39m\u001b[38;5;130;01m\\\\\u001b[39;00m\u001b[33mdell\u001b[39m\u001b[38;5;130;01m\\\\\u001b[39;00m\u001b[33mDocuments\u001b[39m\u001b[38;5;130;01m\\\\\u001b[39;00m\u001b[33mCODES\u001b[39m\u001b[38;5;130;01m\\\\\u001b[39;00m\u001b[33mMAT496\u001b[39m\u001b[38;5;130;01m\\\\\u001b[39;00m\u001b[33mMCP\u001b[39m\u001b[38;5;130;01m\\\\\u001b[39;00m\u001b[33mservers\u001b[39m\u001b[38;5;130;01m\\\\\u001b[39;00m\u001b[33mmath_server.py\u001b[39m\u001b[33m\"\u001b[39m],\n\u001b[32m     12\u001b[39m     )\n",
      "\u001b[31mModuleNotFoundError\u001b[39m: No module named 'langgraph'"
     ]
    }
   ],
   "source": [
    "import sys\n",
    "import asyncio\n",
    "from mcp import ClientSession, StdioServerParameters\n",
    "from mcp.client.stdio import stdio_client\n",
    "from langchain_mcp_adapters.tools import load_mcp_tools\n",
    "from langgraph.prebuilt import create_react_agent\n",
    "\n",
    "async def run_mcp_math(chat_history=None):\n",
    "    server_params = StdioServerParameters(\n",
    "        command=sys.executable,\n",
    "        args=[\"C:\\\\Users\\\\dell\\\\Documents\\\\CODES\\\\MAT496\\\\MCP\\\\servers\\\\math_server.py\"],\n",
    "    )\n",
    "    # Pass errlog=None to avoid fileno error in Jupyter\n",
    "    async with stdio_client(server_params, errlog=None) as (read, write):\n",
    "        async with ClientSession(read, write) as session:\n",
    "            await session.initialize()\n",
    "            tools = await load_mcp_tools(session)\n",
    "            agent = create_react_agent(\"groq:openai/gpt-oss-120b\", tools)\n",
    "            result = await agent.ainvoke(chat_history)\n",
    "            return result"
   ]
  },
  {
   "cell_type": "code",
   "execution_count": null,
   "id": "b214209b",
   "metadata": {},
   "outputs": [],
   "source": [
    "chat_history = {\"messages\": [{\"role\": \"user\", \"content\": \"What is the square root o?\"}]}\n",
    "chat_history = await run_mcp_math(chat_history)\n",
    "chat_history"
   ]
  }
 ],
 "metadata": {
  "kernelspec": {
   "display_name": "myenv (3.12.10)",
   "language": "python",
   "name": "python3"
  },
  "language_info": {
   "codemirror_mode": {
    "name": "ipython",
    "version": 3
   },
   "file_extension": ".py",
   "mimetype": "text/x-python",
   "name": "python",
   "nbconvert_exporter": "python",
   "pygments_lexer": "ipython3",
   "version": "3.12.10"
  }
 },
 "nbformat": 4,
 "nbformat_minor": 5
}
