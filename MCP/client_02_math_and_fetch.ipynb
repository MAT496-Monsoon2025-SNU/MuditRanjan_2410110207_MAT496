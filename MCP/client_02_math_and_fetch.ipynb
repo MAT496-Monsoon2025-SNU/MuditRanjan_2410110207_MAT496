{
 "cells": [
  {
   "cell_type": "code",
   "execution_count": 15,
   "id": "7a5527e8",
   "metadata": {},
   "outputs": [],
   "source": [
    "!pip install -q mcp langchain-mcp-adapters"
   ]
  },
  {
   "cell_type": "code",
   "execution_count": 16,
   "id": "4cb146fb",
   "metadata": {},
   "outputs": [
    {
     "ename": "ModuleNotFoundError",
     "evalue": "No module named 'langgraph'",
     "output_type": "error",
     "traceback": [
      "\u001b[31m---------------------------------------------------------------------------\u001b[39m",
      "\u001b[31mModuleNotFoundError\u001b[39m                       Traceback (most recent call last)",
      "\u001b[36mCell\u001b[39m\u001b[36m \u001b[39m\u001b[32mIn[16]\u001b[39m\u001b[32m, line 6\u001b[39m\n\u001b[32m      4\u001b[39m \u001b[38;5;28;01mfrom\u001b[39;00m\u001b[38;5;250m \u001b[39m\u001b[34;01mmcp\u001b[39;00m\u001b[34;01m.\u001b[39;00m\u001b[34;01mclient\u001b[39;00m\u001b[34;01m.\u001b[39;00m\u001b[34;01mstdio\u001b[39;00m\u001b[38;5;250m \u001b[39m\u001b[38;5;28;01mimport\u001b[39;00m stdio_client\n\u001b[32m      5\u001b[39m \u001b[38;5;28;01mfrom\u001b[39;00m\u001b[38;5;250m \u001b[39m\u001b[34;01mlangchain_mcp_adapters\u001b[39;00m\u001b[34;01m.\u001b[39;00m\u001b[34;01mtools\u001b[39;00m\u001b[38;5;250m \u001b[39m\u001b[38;5;28;01mimport\u001b[39;00m load_mcp_tools\n\u001b[32m----> \u001b[39m\u001b[32m6\u001b[39m \u001b[38;5;28;01mfrom\u001b[39;00m\u001b[38;5;250m \u001b[39m\u001b[34;01mlanggraph\u001b[39;00m\u001b[34;01m.\u001b[39;00m\u001b[34;01mprebuilt\u001b[39;00m\u001b[38;5;250m \u001b[39m\u001b[38;5;28;01mimport\u001b[39;00m create_react_agent\n\u001b[32m      8\u001b[39m \u001b[38;5;28;01masync\u001b[39;00m \u001b[38;5;28;01mdef\u001b[39;00m\u001b[38;5;250m \u001b[39m\u001b[34mrun_mcp\u001b[39m(chat_history=\u001b[38;5;28;01mNone\u001b[39;00m):\n\u001b[32m      9\u001b[39m     \u001b[38;5;28;01mif\u001b[39;00m chat_history \u001b[38;5;129;01mis\u001b[39;00m \u001b[38;5;28;01mNone\u001b[39;00m:\n",
      "\u001b[31mModuleNotFoundError\u001b[39m: No module named 'langgraph'"
     ]
    }
   ],
   "source": [
    "import sys\n",
    "import asyncio\n",
    "from mcp import ClientSession\n",
    "from mcp.client.stdio import stdio_client\n",
    "from langchain_mcp_adapters.tools import load_mcp_tools\n",
    "from langgraph.prebuilt import create_react_agent\n",
    "\n",
    "async def run_mcp(chat_history=None):\n",
    "    if chat_history is None:\n",
    "        chat_history = {\"messages\": []}\n",
    "\n",
    "    math_params = StdioServerParameters(\n",
    "        command=sys.executable,\n",
    "        args=[\"C:\\\\Users\\\\dell\\\\Documents\\\\CODES\\\\MAT496\\\\MCP\\\\servers\\\\math_server.py\"],\n",
    "    )\n",
    "    fetch_params = StdioServerParameters(\n",
    "        command=sys.executable,\n",
    "        args=[\"-m\", \"mcp_server_fetch\"],\n",
    "    )\n",
    "\n",
    "    async with stdio_client(math_params, errlog=None) as (math_read, math_write):\n",
    "        async with stdio_client(fetch_params, errlog=None) as (fetch_read, fetch_write):\n",
    "            async with ClientSession(math_read, math_write) as math_session:\n",
    "                async with ClientSession(fetch_read, fetch_write) as fetch_session:\n",
    "                    await math_session.initialize()\n",
    "                    await fetch_session.initialize()\n",
    "                    math_tools = await load_mcp_tools(math_session)\n",
    "                    fetch_tools = await load_mcp_tools(fetch_session)\n",
    "                    tools = math_tools + fetch_tools\n",
    "                    agent = create_react_agent(\"groq:openai/gpt-oss-120b\", tools)\n",
    "                    result = await agent.ainvoke(chat_history)\n",
    "                    return result"
   ]
  },
  {
   "cell_type": "code",
   "execution_count": null,
   "id": "f7f3d8c8",
   "metadata": {},
   "outputs": [],
   "source": [
    "chat_history = {\"messages\": [{\"role\": \"user\", \"content\": \"hi?\"}]}\n",
    "\n",
    "chat_history = await run_mcp(chat_history)\n",
    "chat_history"
   ]
  },
  {
   "cell_type": "code",
   "execution_count": null,
   "id": "7b249f07",
   "metadata": {},
   "outputs": [],
   "source": [
    "new_message = \"Go the the site https://krajit.github.io/ and find Ajit's email address\"\n",
    "\n",
    "chat_history[\"messages\"].append({\"role\": \"user\", \"content\": new_message})\n",
    "chat_history = await run_mcp(chat_history)\n",
    "chat_history"
   ]
  }
 ],
 "metadata": {
  "kernelspec": {
   "display_name": "myenv (3.12.10)",
   "language": "python",
   "name": "python3"
  },
  "language_info": {
   "codemirror_mode": {
    "name": "ipython",
    "version": 3
   },
   "file_extension": ".py",
   "mimetype": "text/x-python",
   "name": "python",
   "nbconvert_exporter": "python",
   "pygments_lexer": "ipython3",
   "version": "3.12.10"
  }
 },
 "nbformat": 4,
 "nbformat_minor": 5
}
