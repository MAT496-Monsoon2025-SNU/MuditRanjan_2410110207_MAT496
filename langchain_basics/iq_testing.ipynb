{
 "cells": [
  {
   "cell_type": "code",
   "execution_count": 2,
   "id": "d338f1c2",
   "metadata": {},
   "outputs": [
    {
     "data": {
      "text/plain": [
       "True"
      ]
     },
     "execution_count": 2,
     "metadata": {},
     "output_type": "execute_result"
    }
   ],
   "source": [
    "from dotenv import load_dotenv\n",
    "load_dotenv()"
   ]
  },
  {
   "cell_type": "code",
   "execution_count": 3,
   "id": "7498c37e",
   "metadata": {},
   "outputs": [
    {
     "name": "stdout",
     "output_type": "stream",
     "text": [
      "Note: you may need to restart the kernel to use updated packages.\n"
     ]
    }
   ],
   "source": [
    "pip install -qU \"langchain[groq]"
   ]
  },
  {
   "cell_type": "code",
   "execution_count": 4,
   "id": "b39d596b",
   "metadata": {},
   "outputs": [],
   "source": [
    "from langchain.chat_models import init_chat_model\n",
    "\n",
    "model = init_chat_model(\"llama-3.3-70b-versatile\", model_provider=\"groq\")"
   ]
  },
  {
   "cell_type": "code",
   "execution_count": 5,
   "id": "eb92640a",
   "metadata": {},
   "outputs": [],
   "source": [
    "response = model.invoke(\"Suggest a question to test someone's IQ. Also give the answer.\")"
   ]
  },
  {
   "cell_type": "code",
   "execution_count": 6,
   "id": "ef2222f0",
   "metadata": {},
   "outputs": [
    {
     "data": {
      "text/plain": [
       "AIMessage(content='Here\\'s a question to test someone\\'s IQ:\\n\\n**Question:** A bat and a ball together cost $1.10. The bat costs $1.00 more than the ball. How much does the ball cost?\\n\\n**Answer:** $0.05\\n\\n**Explanation:** Let\\'s say the ball costs x cents. Since the bat costs $1.00 more than the ball, the bat costs x + $1.00. The total cost of the bat and ball together is $1.10, so we can set up the equation: x + (x + $1.00) = $1.10. Simplifying the equation, we get 2x + $1.00 = $1.10. Subtracting $1.00 from both sides, we get 2x = $0.10. Dividing both sides by 2, we get x = $0.05.\\n\\nThis question requires the test-taker to use logical reasoning and algebraic thinking to solve the problem. It\\'s a classic example of a \"lateral thinking\" puzzle that can help assess a person\\'s cognitive abilities, particularly in the areas of problem-solving and critical thinking.', additional_kwargs={}, response_metadata={'token_usage': {'completion_tokens': 240, 'prompt_tokens': 50, 'total_tokens': 290, 'completion_time': 0.400353533, 'prompt_time': 0.002547882, 'queue_time': 0.048720418, 'total_time': 0.402901415}, 'model_name': 'llama-3.3-70b-versatile', 'system_fingerprint': 'fp_155ab82e98', 'service_tier': 'on_demand', 'finish_reason': 'stop', 'logprobs': None}, id='run--1d7ac0e8-e17c-439f-820b-46b7feed74ba-0', usage_metadata={'input_tokens': 50, 'output_tokens': 240, 'total_tokens': 290})"
      ]
     },
     "execution_count": 6,
     "metadata": {},
     "output_type": "execute_result"
    }
   ],
   "source": [
    "response"
   ]
  },
  {
   "cell_type": "code",
   "execution_count": 7,
   "id": "0a19aac2",
   "metadata": {},
   "outputs": [
    {
     "name": "stdout",
     "output_type": "stream",
     "text": [
      "Here's a question to test someone's IQ:\n",
      "\n",
      "**Question:** A bat and a ball together cost $1.10. The bat costs $1.00 more than the ball. How much does the ball cost?\n",
      "\n",
      "**Answer:** $0.05\n",
      "\n",
      "**Explanation:** Let's say the ball costs x cents. Since the bat costs $1.00 more than the ball, the bat costs x + $1.00. The total cost of the bat and ball together is $1.10, so we can set up the equation: x + (x + $1.00) = $1.10. Simplifying the equation, we get 2x + $1.00 = $1.10. Subtracting $1.00 from both sides, we get 2x = $0.10. Dividing both sides by 2, we get x = $0.05.\n",
      "\n",
      "This question requires the test-taker to use logical reasoning and algebraic thinking to solve the problem. It's a classic example of a \"lateral thinking\" puzzle that can help assess a person's cognitive abilities, particularly in the areas of problem-solving and critical thinking.\n"
     ]
    }
   ],
   "source": [
    "print(response.content)"
   ]
  },
  {
   "cell_type": "code",
   "execution_count": 8,
   "id": "aabd7a6c",
   "metadata": {},
   "outputs": [
    {
     "name": "stdout",
     "output_type": "stream",
     "text": [
      "To solve this problem, let's analyze the snail's daily progress. The snail climbs 3 feet up during the day, but then slips back 2 feet at night. This means the net progress the snail makes each day is 3 feet (up) - 2 feet (slip back) = 1 foot per day.\n",
      "\n",
      "However, on the day the snail reaches the top, it won't slip back at night. So, we need to find out how many days it takes for the snail to climb to a point where, after a day of climbing, it will be at or above the top of the well.\n",
      "\n",
      "The well is 40 feet deep. If the snail climbs 3 feet on its last day and doesn't slip back, it needs to be at 40 - 3 = 37 feet the night before its final climb. \n",
      "\n",
      "Since the snail makes a net progress of 1 foot per day, to reach 37 feet, it will take 37 days (because it starts from 0 feet, so 37 feet / 1 foot per day = 37 days).\n",
      "\n",
      "On the 38th day, the snail will climb the final 3 feet and reach the top of the 40-foot well without slipping back.\n",
      "\n",
      "Therefore, it will take the snail 38 days to reach the top of the well.\n"
     ]
    }
   ],
   "source": [
    "from langchain.chat_models import init_chat_model\n",
    "\n",
    "model = init_chat_model(\"llama-3.3-70b-versatile\", model_provider=\"groq\")\n",
    "\n",
    "response = model.invoke(\"A snail is at the bottom of a 40-foot well. Each day, it climbs up 3 feet, but at night, it slips back 2 feet. How many days will it take for the snail to reach the top of the well?\")\n",
    "\n",
    "print(response.content)"
   ]
  }
 ],
 "metadata": {
  "kernelspec": {
   "display_name": "myenv (3.12.10)",
   "language": "python",
   "name": "python3"
  },
  "language_info": {
   "codemirror_mode": {
    "name": "ipython",
    "version": 3
   },
   "file_extension": ".py",
   "mimetype": "text/x-python",
   "name": "python",
   "nbconvert_exporter": "python",
   "pygments_lexer": "ipython3",
   "version": "3.12.10"
  }
 },
 "nbformat": 4,
 "nbformat_minor": 5
}
